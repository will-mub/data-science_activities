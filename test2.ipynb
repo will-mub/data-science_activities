{
 "cells": [
  {
   "cell_type": "markdown",
   "id": "6b32cdc2",
   "metadata": {},
   "source": []
  },
  {
   "cell_type": "markdown",
   "id": "e506649e",
   "metadata": {},
   "source": [
    "## question1\n"
   ]
  },
  {
   "cell_type": "markdown",
   "id": "36dc41e7",
   "metadata": {},
   "source": []
  },
  {
   "cell_type": "code",
   "execution_count": 15,
   "id": "a5e813a7",
   "metadata": {},
   "outputs": [
    {
     "name": "stdout",
     "output_type": "stream",
     "text": [
      "False\n"
     ]
    }
   ],
   "source": [
    "a = 3\n",
    "b = 5\n",
    "\n",
    "print((a%2 == 1) and b< 3)"
   ]
  },
  {
   "cell_type": "markdown",
   "id": "b815b0cc",
   "metadata": {},
   "source": [
    "**1.2**"
   ]
  },
  {
   "cell_type": "code",
   "execution_count": 5,
   "id": "8886f544",
   "metadata": {},
   "outputs": [
    {
     "data": {
      "text/plain": [
       "True"
      ]
     },
     "execution_count": 5,
     "metadata": {},
     "output_type": "execute_result"
    }
   ],
   "source": [
    "a!=7 or b>=2"
   ]
  },
  {
   "cell_type": "markdown",
   "id": "3ee300ae",
   "metadata": {},
   "source": [
    "**1.3**"
   ]
  },
  {
   "cell_type": "code",
   "execution_count": 6,
   "id": "97ea705e",
   "metadata": {},
   "outputs": [
    {
     "name": "stderr",
     "output_type": "stream",
     "text": [
      "or was unexpected at this time.\n"
     ]
    }
   ],
   "source": [
    "!(a<10) or (b>5)"
   ]
  },
  {
   "cell_type": "markdown",
   "id": "c74b302c",
   "metadata": {},
   "source": [
    "**1.4**"
   ]
  },
  {
   "cell_type": "code",
   "execution_count": 7,
   "id": "18fadc6f",
   "metadata": {},
   "outputs": [
    {
     "data": {
      "text/plain": [
       "False"
      ]
     },
     "execution_count": 7,
     "metadata": {},
     "output_type": "execute_result"
    }
   ],
   "source": [
    "a>5 and not(b==2)"
   ]
  },
  {
   "cell_type": "markdown",
   "id": "b50cfbac",
   "metadata": {},
   "source": [
    "## question 2"
   ]
  },
  {
   "cell_type": "code",
   "execution_count": 8,
   "id": "5f63b7d3",
   "metadata": {},
   "outputs": [
    {
     "name": "stdout",
     "output_type": "stream",
     "text": [
      "*\n",
      "**\n",
      "***\n",
      "****\n",
      "*****\n",
      "******\n",
      "*******\n",
      "********\n",
      "*********\n",
      "**********\n"
     ]
    }
   ],
   "source": [
    "for i in range(1,11):\n",
    "    print('*'*i)"
   ]
  },
  {
   "cell_type": "markdown",
   "id": "005d37c3",
   "metadata": {},
   "source": [
    "## question 4"
   ]
  },
  {
   "cell_type": "code",
   "execution_count": 7,
   "id": "ba478e58",
   "metadata": {},
   "outputs": [
    {
     "name": "stdout",
     "output_type": "stream",
     "text": [
      "2 4 6 8 10 12 14 "
     ]
    }
   ],
   "source": [
    "for n in range(1,15):\n",
    "    if n%2 !=0:\n",
    "        continue\n",
    "    print(n, end=' ')"
   ]
  },
  {
   "cell_type": "markdown",
   "id": "3836d09b",
   "metadata": {},
   "source": [
    "## question 5"
   ]
  },
  {
   "cell_type": "markdown",
   "id": "2772ae34",
   "metadata": {},
   "source": [
    "**5.1**"
   ]
  },
  {
   "cell_type": "code",
   "execution_count": null,
   "id": "1751d37c",
   "metadata": {},
   "outputs": [
    {
     "data": {
      "text/plain": [
       "50.24"
      ]
     },
     "execution_count": 3,
     "metadata": {},
     "output_type": "execute_result"
    }
   ],
   "source": [
    "def area(r):\n",
    "    return 3.14*r*r\n"
   ]
  },
  {
   "cell_type": "markdown",
   "id": "8f7897f9",
   "metadata": {},
   "source": [
    "**5.2**"
   ]
  },
  {
   "cell_type": "code",
   "execution_count": 4,
   "id": "229096bf",
   "metadata": {},
   "outputs": [
    {
     "data": {
      "text/plain": [
       "1"
      ]
     },
     "execution_count": 4,
     "metadata": {},
     "output_type": "execute_result"
    }
   ],
   "source": [
    "def diff(num1,num2):\n",
    "    return num1 - num2\n",
    "\n",
    "diff(3,2)"
   ]
  },
  {
   "cell_type": "markdown",
   "id": "09e2c2cf",
   "metadata": {},
   "source": [
    "## question 6"
   ]
  },
  {
   "cell_type": "markdown",
   "id": "262fc0e3",
   "metadata": {},
   "source": [
    "**6.1**"
   ]
  },
  {
   "cell_type": "code",
   "execution_count": 1,
   "id": "fc6ff7af",
   "metadata": {},
   "outputs": [
    {
     "name": "stdout",
     "output_type": "stream",
     "text": [
      "5 4 3 2 1 "
     ]
    }
   ],
   "source": [
    "i = 5\n",
    "while i >0 :\n",
    "    print(i, end=' ')\n",
    "    i-=1"
   ]
  },
  {
   "cell_type": "markdown",
   "id": "ef8d0606",
   "metadata": {},
   "source": [
    "**6.2**"
   ]
  },
  {
   "cell_type": "code",
   "execution_count": 3,
   "id": "50a35a18",
   "metadata": {},
   "outputs": [
    {
     "name": "stdout",
     "output_type": "stream",
     "text": [
      "2 4 6 8 10 "
     ]
    }
   ],
   "source": [
    "i = 2\n",
    "while True:\n",
    "    print(i, end = ' ')\n",
    "    i +=2\n",
    "    if i> 10:\n",
    "        break"
   ]
  },
  {
   "cell_type": "markdown",
   "id": "d4c40f8b",
   "metadata": {},
   "source": [
    "**6.3**"
   ]
  },
  {
   "cell_type": "code",
   "execution_count": 4,
   "id": "0854374f",
   "metadata": {},
   "outputs": [
    {
     "name": "stdout",
     "output_type": "stream",
     "text": [
      "Total =  15\n"
     ]
    }
   ],
   "source": [
    "sum = 0\n",
    "for i in range(1,6):\n",
    "    sum +=i\n",
    "print(\"Total = \", sum)"
   ]
  },
  {
   "cell_type": "markdown",
   "id": "ac8d6495",
   "metadata": {},
   "source": [
    "**6.4**"
   ]
  },
  {
   "cell_type": "code",
   "execution_count": 5,
   "id": "005a0840",
   "metadata": {},
   "outputs": [
    {
     "name": "stdout",
     "output_type": "stream",
     "text": [
      "1 3 5 7 9 "
     ]
    }
   ],
   "source": [
    "for i in range(1,11):\n",
    "    if i%2== 0:\n",
    "        continue\n",
    "    print(i, end=\" \")"
   ]
  },
  {
   "cell_type": "markdown",
   "id": "9d74f983",
   "metadata": {},
   "source": [
    "**6.5**"
   ]
  },
  {
   "cell_type": "code",
   "execution_count": 9,
   "id": "00c8406d",
   "metadata": {},
   "outputs": [
    {
     "name": "stdout",
     "output_type": "stream",
     "text": [
      "10 9 8 7 6 "
     ]
    }
   ],
   "source": [
    "i = 10\n",
    "while i >= 0:\n",
    "    if i == 5:\n",
    "        break\n",
    "    print(i, end = \" \")\n",
    "    i -= 1"
   ]
  },
  {
   "cell_type": "markdown",
   "id": "c815a5e1",
   "metadata": {},
   "source": [
    "6.6"
   ]
  },
  {
   "cell_type": "code",
   "execution_count": 10,
   "id": "f888a02d",
   "metadata": {},
   "outputs": [
    {
     "name": "stdout",
     "output_type": "stream",
     "text": [
      "Step 3\n",
      "Step 4\n",
      "Step 5\n",
      "Step 6\n"
     ]
    }
   ],
   "source": [
    "i = 3\n",
    "while True:\n",
    "    print(f'Step {i}')\n",
    "    i += 1\n",
    "    if i > 6:\n",
    "        break"
   ]
  },
  {
   "cell_type": "markdown",
   "id": "62d50f4c",
   "metadata": {},
   "source": [
    "**6.7**"
   ]
  },
  {
   "cell_type": "code",
   "execution_count": 13,
   "id": "73e8b861",
   "metadata": {},
   "outputs": [
    {
     "name": "stdout",
     "output_type": "stream",
     "text": [
      "(1, 1) (1, 2) (1, 3) \n",
      "(2, 1) (2, 2) (2, 3) \n"
     ]
    }
   ],
   "source": [
    "for x in range(1, 3):\n",
    "    for y in range(1, 4):\n",
    "        print(f'({x}, {y})', end=\" \")\n",
    "    print()\n"
   ]
  },
  {
   "cell_type": "markdown",
   "id": "ddf5105e",
   "metadata": {},
   "source": [
    "**6.8**"
   ]
  },
  {
   "cell_type": "code",
   "execution_count": 14,
   "id": "d990b14d",
   "metadata": {},
   "outputs": [
    {
     "name": "stdout",
     "output_type": "stream",
     "text": [
      "sum =  12\n"
     ]
    }
   ],
   "source": [
    "num = 1\n",
    "sum = 0\n",
    "while num <=10:\n",
    "    if num%4 ==0:\n",
    "        sum += num\n",
    "    num += 1\n",
    "print(\"sum = \", sum)\n"
   ]
  },
  {
   "cell_type": "markdown",
   "id": "0f8e74fd",
   "metadata": {},
   "source": [
    "## question 7"
   ]
  },
  {
   "cell_type": "code",
   "execution_count": null,
   "id": "bb0b84bb",
   "metadata": {},
   "outputs": [
    {
     "name": "stdout",
     "output_type": "stream",
     "text": [
      "[0, 1, 2, 3, 4]\n",
      "2\n"
     ]
    }
   ],
   "source": [
    "num = list(range(5))\n",
    "print(num)\n",
    "#printing the third element of the list\n",
    "print(num[2])"
   ]
  },
  {
   "cell_type": "code",
   "execution_count": null,
   "id": "878326eb",
   "metadata": {},
   "outputs": [],
   "source": []
  }
 ],
 "metadata": {
  "kernelspec": {
   "display_name": "Python 3",
   "language": "python",
   "name": "python3"
  },
  "language_info": {
   "codemirror_mode": {
    "name": "ipython",
    "version": 3
   },
   "file_extension": ".py",
   "mimetype": "text/x-python",
   "name": "python",
   "nbconvert_exporter": "python",
   "pygments_lexer": "ipython3",
   "version": "3.13.3"
  }
 },
 "nbformat": 4,
 "nbformat_minor": 5
}
